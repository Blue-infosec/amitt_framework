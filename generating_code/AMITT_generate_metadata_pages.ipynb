{
 "cells": [
  {
   "cell_type": "markdown",
   "metadata": {},
   "source": [
    "# Generate AMITT page metadata\n",
    "\n",
    "Create a page for each of the AMITT objects, if it doesn't already exist.  If it does, update the metadata on it, but take care to preserve any human-generated notes. "
   ]
  },
  {
   "cell_type": "code",
   "execution_count": 26,
   "metadata": {},
   "outputs": [
    {
     "name": "stdout",
     "output_type": "stream",
     "text": [
      "loaded dict_keys(['phases', 'tactics', 'techniques', 'tasks', 'incidents', 'incidenttechniques'])\n"
     ]
    }
   ],
   "source": [
    "import pandas as pd\n",
    "import os\n",
    "\n",
    "xlsx = pd.ExcelFile('amitt_metadata_v3.xlsx')\n",
    "metadata = {}\n",
    "for sheetname in xlsx.sheet_names:\n",
    "    metadata[sheetname] = xlsx.parse(sheetname)\n",
    "print('loaded {}'.format(metadata.keys()))"
   ]
  },
  {
   "cell_type": "code",
   "execution_count": 27,
   "metadata": {},
   "outputs": [],
   "source": [
    "for entity in ['phase', 'tactic', 'technique', 'task', 'incident']:\n",
    "    entities = entity + 's'\n",
    "    entitydir = '../{}'.format(entities)\n",
    "    if not os.path.exists(entitydir):\n",
    "        os.makedirs(entitydir)\n",
    "    \n",
    "    template = open('template_{}.md'.format(entity)).read()\n",
    "    for index, row in metadata[entities].iterrows():\n",
    "        if row['name'] == '':\n",
    "            continue\n",
    "        \n",
    "        with open('../{}/{}'.format(entities,row['id']), 'w') as f:\n",
    "            if entity == 'phase':\n",
    "                f.write(template.format(id=row['id'], name=row['name'],\n",
    "                                        summary=row['summary']))\n",
    "            if entity == 'tactic':\n",
    "                f.write(template.format(id=row['id'], name=row['name'],\n",
    "                                        phase=row['phase'], summary=row['summary']))            \n",
    "            if entity == 'technique' or entity == 'task':\n",
    "                f.write(template.format(id=row['id'], name=row['name'],\n",
    "                                        tactic=row['tactic'], summary=row['summary']))\n",
    "            if entity == 'incident':\n",
    "                f.write(template.format(id=row['id'], name=row['name'],\n",
    "                                        type=row['type'], summary=row['summary'],\n",
    "                                        yearstarted=row['Year Started'], \n",
    "                                        fromcountry=row['From country'],\n",
    "                                        tocountry=row['To country'],\n",
    "                                        foundvia=row['Found via'],\n",
    "                                        dateadded=row['When added'],\n",
    "                                        techniques=''))\n",
    "            f.close()"
   ]
  },
  {
   "cell_type": "code",
   "execution_count": 12,
   "metadata": {},
   "outputs": [],
   "source": [
    "# todo: protect anything under the \"dO NOt WRITE ABOVE THIS\" line\n",
    "# todo: create the matrix (clickable?)\n",
    "# todo: add in the existing incident pages\n",
    "# todo: add in the existing tactic notes from spreadsheets\n",
    "# todo: add all framework comments to the repo issues list\n",
    "# todo: add the tracking of incidents to techniques (use the incidenttechiques field)"
   ]
  },
  {
   "cell_type": "code",
   "execution_count": 23,
   "metadata": {},
   "outputs": [
    {
     "data": {
      "text/plain": [
       "Index(['Id', 'Year Started', 'Type', 'Name', 'From country', 'To country',\n",
       "       'URL(s)', 'summary', 'Notes', 'When added', 'Found via'],\n",
       "      dtype='object')"
      ]
     },
     "execution_count": 23,
     "metadata": {},
     "output_type": "execute_result"
    }
   ],
   "source": [
    "metadata['incidents'].columns"
   ]
  },
  {
   "cell_type": "code",
   "execution_count": null,
   "metadata": {},
   "outputs": [],
   "source": []
  }
 ],
 "metadata": {
  "kernelspec": {
   "display_name": "Python 3",
   "language": "python",
   "name": "python3"
  },
  "language_info": {
   "codemirror_mode": {
    "name": "ipython",
    "version": 3
   },
   "file_extension": ".py",
   "mimetype": "text/x-python",
   "name": "python",
   "nbconvert_exporter": "python",
   "pygments_lexer": "ipython3",
   "version": "3.7.3"
  }
 },
 "nbformat": 4,
 "nbformat_minor": 2
}
